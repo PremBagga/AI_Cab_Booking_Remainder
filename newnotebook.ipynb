{
 "cells": [
  {
   "cell_type": "code",
   "execution_count": 1,
   "id": "3bf7dcdf",
   "metadata": {},
   "outputs": [
    {
     "name": "stdout",
     "output_type": "stream",
     "text": [
      "✅ Cab_Required column corrected and saved to 'cab_booking_training_data_corrected.csv'\n"
     ]
    }
   ],
   "source": [
    "import pandas as pd\n",
    "from datetime import datetime, time\n",
    "\n",
    "# Load your dataset\n",
    "df = pd.read_csv(\"cab_booking_training_data.csv\")\n",
    "\n",
    "# Convert time strings\n",
    "def to_time(t):\n",
    "    try:\n",
    "        return datetime.strptime(t.strip(), \"%H:%M\").time()\n",
    "    except:\n",
    "        return None\n",
    "\n",
    "df['Shift_Start'] = df['Shift_Start'].apply(to_time)\n",
    "df['Shift_End'] = df['Shift_End'].apply(to_time)\n",
    "\n",
    "# Cab-required logic\n",
    "def strict_cab_required(start, end):\n",
    "    if not start or not end:\n",
    "        return False\n",
    "\n",
    "    night_start = time(22, 0)\n",
    "    night_end = time(6, 0)\n",
    "\n",
    "    if start >= night_start and end <= night_end:\n",
    "        return True\n",
    "    elif start == night_start or start == night_end:\n",
    "        return True\n",
    "    elif end == night_start or end == night_end:\n",
    "        return True\n",
    "    elif (start >= night_start or start <= night_end):\n",
    "        return True\n",
    "    elif (end >= night_start or end <= night_end):\n",
    "        return True\n",
    "    return False\n",
    "\n",
    "# Apply logic\n",
    "df['Cab_Required_Logic'] = df.apply(lambda row: strict_cab_required(row['Shift_Start'], row['Shift_End']), axis=1)\n",
    "\n",
    "# Fix mismatches\n",
    "df['Cab_Required'] = df['Cab_Required_Logic']\n",
    "\n",
    "# Drop the helper column\n",
    "df.drop(columns=['Cab_Required_Logic'], inplace=True)\n",
    "\n",
    "# Save the corrected file\n",
    "df.to_csv(\"cab_booking_training_data_corrected.csv\", index=False)\n",
    "\n",
    "print(\"✅ Cab_Required column corrected and saved to 'cab_booking_training_data_corrected.csv'\")\n"
   ]
  },
  {
   "cell_type": "code",
   "execution_count": 1,
   "id": "eeaa23d1",
   "metadata": {},
   "outputs": [
    {
     "name": "stdout",
     "output_type": "stream",
     "text": [
      "Empty DataFrame\n",
      "Columns: [Emp_ID, Shift_Start, Shift_End, Cab_Required, Cab_Required_Logic]\n",
      "Index: []\n"
     ]
    },
    {
     "name": "stderr",
     "output_type": "stream",
     "text": [
      "C:\\Users\\premb\\AppData\\Local\\Temp\\ipykernel_29344\\786220120.py:8: UserWarning: Could not infer format, so each element will be parsed individually, falling back to `dateutil`. To ensure parsing is consistent and as-expected, please specify a format.\n",
      "  df['Shift_Start'] = pd.to_datetime(df['Shift_Start']).dt.time\n",
      "C:\\Users\\premb\\AppData\\Local\\Temp\\ipykernel_29344\\786220120.py:9: UserWarning: Could not infer format, so each element will be parsed individually, falling back to `dateutil`. To ensure parsing is consistent and as-expected, please specify a format.\n",
      "  df['Shift_End'] = pd.to_datetime(df['Shift_End']).dt.time\n"
     ]
    }
   ],
   "source": [
    "import pandas as pd\n",
    "from datetime import datetime, time\n",
    "\n",
    "# Load your dataset\n",
    "df = pd.read_csv(\"balcab_booking_dataset.csv\")\n",
    "\n",
    "# Convert Shift_Start and Shift_End to datetime, then extract time\n",
    "df['Shift_Start'] = pd.to_datetime(df['Shift_Start']).dt.time\n",
    "df['Shift_End'] = pd.to_datetime(df['Shift_End']).dt.time\n",
    "\n",
    "# Cab required logic (based on your full rules)\n",
    "def strict_cab_required(start, end):\n",
    "    if not start or not end:\n",
    "        return False\n",
    "\n",
    "    night_start = time(22, 0)\n",
    "    night_end = time(6, 0)\n",
    "\n",
    "    if start >= night_start and end <= night_end:\n",
    "        return True\n",
    "    elif start == night_start or start == night_end:\n",
    "        return True\n",
    "    elif end == night_start or end == night_end:\n",
    "        return True\n",
    "    elif (start >= night_start or start <= night_end):\n",
    "        return True\n",
    "    elif (end >= night_start or end <= night_end):\n",
    "        return True\n",
    "    return False\n",
    "\n",
    "# Apply cab-required logic\n",
    "df['Cab_Required_Logic'] = df.apply(lambda row: strict_cab_required(row['Shift_Start'], row['Shift_End']), axis=1)\n",
    "\n",
    "# Compare against existing column\n",
    "mismatch_df = df[df['Cab_Required'] != df['Cab_Required_Logic']]\n",
    "\n",
    "# Show mismatches\n",
    "print(mismatch_df[['Emp_ID', 'Shift_Start', 'Shift_End', 'Cab_Required', 'Cab_Required_Logic']])\n",
    "\n"
   ]
  },
  {
   "cell_type": "code",
   "execution_count": 15,
   "id": "80dd47ff",
   "metadata": {},
   "outputs": [
    {
     "data": {
      "text/html": [
       "<div>\n",
       "<style scoped>\n",
       "    .dataframe tbody tr th:only-of-type {\n",
       "        vertical-align: middle;\n",
       "    }\n",
       "\n",
       "    .dataframe tbody tr th {\n",
       "        vertical-align: top;\n",
       "    }\n",
       "\n",
       "    .dataframe thead th {\n",
       "        text-align: right;\n",
       "    }\n",
       "</style>\n",
       "<table border=\"1\" class=\"dataframe\">\n",
       "  <thead>\n",
       "    <tr style=\"text-align: right;\">\n",
       "      <th></th>\n",
       "      <th>Emp_ID</th>\n",
       "      <th>Shift_Date</th>\n",
       "      <th>Shift_Start</th>\n",
       "      <th>Shift_End</th>\n",
       "      <th>Cab_Required</th>\n",
       "      <th>DayOfWeek</th>\n",
       "      <th>Booked_At</th>\n",
       "      <th>BookingTimeMin</th>\n",
       "      <th>AvgBookingTimeMin</th>\n",
       "      <th>MissedDeadline</th>\n",
       "      <th>PastBookingCount</th>\n",
       "      <th>PastLateBooking</th>\n",
       "      <th>PreviousRemainders</th>\n",
       "      <th>Risk</th>\n",
       "    </tr>\n",
       "  </thead>\n",
       "  <tbody>\n",
       "    <tr>\n",
       "      <th>0</th>\n",
       "      <td>4387</td>\n",
       "      <td>12-07-2025</td>\n",
       "      <td>20:45</td>\n",
       "      <td>04:45</td>\n",
       "      <td>True</td>\n",
       "      <td>5</td>\n",
       "      <td>12-07-2025 19:09</td>\n",
       "      <td>96</td>\n",
       "      <td>96</td>\n",
       "      <td>1</td>\n",
       "      <td>15</td>\n",
       "      <td>4</td>\n",
       "      <td>5</td>\n",
       "      <td>1</td>\n",
       "    </tr>\n",
       "    <tr>\n",
       "      <th>1</th>\n",
       "      <td>1719</td>\n",
       "      <td>13-07-2025</td>\n",
       "      <td>17:00</td>\n",
       "      <td>01:00</td>\n",
       "      <td>True</td>\n",
       "      <td>6</td>\n",
       "      <td>13-07-2025 03:35</td>\n",
       "      <td>805</td>\n",
       "      <td>805</td>\n",
       "      <td>0</td>\n",
       "      <td>8</td>\n",
       "      <td>0</td>\n",
       "      <td>3</td>\n",
       "      <td>0</td>\n",
       "    </tr>\n",
       "  </tbody>\n",
       "</table>\n",
       "</div>"
      ],
      "text/plain": [
       "   Emp_ID  Shift_Date Shift_Start Shift_End  Cab_Required  DayOfWeek  \\\n",
       "0    4387  12-07-2025       20:45     04:45          True          5   \n",
       "1    1719  13-07-2025       17:00     01:00          True          6   \n",
       "\n",
       "          Booked_At  BookingTimeMin  AvgBookingTimeMin  MissedDeadline  \\\n",
       "0  12-07-2025 19:09              96                 96               1   \n",
       "1  13-07-2025 03:35             805                805               0   \n",
       "\n",
       "   PastBookingCount  PastLateBooking  PreviousRemainders  Risk  \n",
       "0                15                4                   5     1  \n",
       "1                 8                0                   3     0  "
      ]
     },
     "execution_count": 15,
     "metadata": {},
     "output_type": "execute_result"
    }
   ],
   "source": [
    "df = pd.read_csv('balcab_booking_dataset.csv')\n",
    "df.head(2)"
   ]
  },
  {
   "cell_type": "code",
   "execution_count": 16,
   "id": "64902296",
   "metadata": {},
   "outputs": [
    {
     "name": "stdout",
     "output_type": "stream",
     "text": [
      "['Emp_ID', 'Shift_Date', 'Shift_Start', 'Shift_End', 'Cab_Required', 'DayOfWeek', 'Booked_At', 'BookingTimeMin', 'AvgBookingTimeMin', 'MissedDeadline', 'PastBookingCount', 'PastLateBooking', 'PreviousRemainders', 'Risk']\n"
     ]
    }
   ],
   "source": [
    "print(df.columns.tolist())  # View column names before"
   ]
  },
  {
   "cell_type": "code",
   "execution_count": 17,
   "metadata": {},
   "outputs": [
    {
     "name": "stdout",
     "output_type": "stream",
     "text": [
      "['Emp_ID', 'Shift_Date', 'Shift_Start', 'Shift_End', 'Cab_Required', 'DayOfWeek', 'Booked_At', 'BookingTimeMin', 'AvgBookingTimeMin', 'MissedDeadline', 'PastBookingCount', 'PastLateBooking', 'PreviousRemainders', 'Risk']\n"
     ]
    }
   ],
   "source": [
    "#If Columns contains leading and Trailing spaces\n",
    "df.columns = df.columns.str.strip()\n",
    "print(df.columns.tolist())  # View cleaned names"
   ]
  },
  {
   "cell_type": "code",
   "execution_count": 18,
   "metadata": {},
   "outputs": [],
   "source": [
    "#Dropping Colummns as they are unusual\n",
    "df_clean = df.copy()\n",
    "\n",
    "df_clean = df_clean.drop(['Emp_ID','Shift_Date', 'Shift_Start', 'Shift_End','Booked_At'], axis=1) #not using inplace = true as it changes og dataset using a copy of it i.e df\n"
   ]
  },
  {
   "cell_type": "code",
   "execution_count": 19,
   "metadata": {},
   "outputs": [
    {
     "data": {
      "text/html": [
       "<div>\n",
       "<style scoped>\n",
       "    .dataframe tbody tr th:only-of-type {\n",
       "        vertical-align: middle;\n",
       "    }\n",
       "\n",
       "    .dataframe tbody tr th {\n",
       "        vertical-align: top;\n",
       "    }\n",
       "\n",
       "    .dataframe thead th {\n",
       "        text-align: right;\n",
       "    }\n",
       "</style>\n",
       "<table border=\"1\" class=\"dataframe\">\n",
       "  <thead>\n",
       "    <tr style=\"text-align: right;\">\n",
       "      <th></th>\n",
       "      <th>Cab_Required</th>\n",
       "      <th>DayOfWeek</th>\n",
       "      <th>BookingTimeMin</th>\n",
       "      <th>AvgBookingTimeMin</th>\n",
       "      <th>MissedDeadline</th>\n",
       "      <th>PastBookingCount</th>\n",
       "      <th>PastLateBooking</th>\n",
       "      <th>PreviousRemainders</th>\n",
       "      <th>Risk</th>\n",
       "    </tr>\n",
       "  </thead>\n",
       "  <tbody>\n",
       "    <tr>\n",
       "      <th>0</th>\n",
       "      <td>True</td>\n",
       "      <td>5</td>\n",
       "      <td>96</td>\n",
       "      <td>96</td>\n",
       "      <td>1</td>\n",
       "      <td>15</td>\n",
       "      <td>4</td>\n",
       "      <td>5</td>\n",
       "      <td>1</td>\n",
       "    </tr>\n",
       "    <tr>\n",
       "      <th>1</th>\n",
       "      <td>True</td>\n",
       "      <td>6</td>\n",
       "      <td>805</td>\n",
       "      <td>805</td>\n",
       "      <td>0</td>\n",
       "      <td>8</td>\n",
       "      <td>0</td>\n",
       "      <td>3</td>\n",
       "      <td>0</td>\n",
       "    </tr>\n",
       "  </tbody>\n",
       "</table>\n",
       "</div>"
      ],
      "text/plain": [
       "   Cab_Required  DayOfWeek  BookingTimeMin  AvgBookingTimeMin  MissedDeadline  \\\n",
       "0          True          5              96                 96               1   \n",
       "1          True          6             805                805               0   \n",
       "\n",
       "   PastBookingCount  PastLateBooking  PreviousRemainders  Risk  \n",
       "0                15                4                   5     1  \n",
       "1                 8                0                   3     0  "
      ]
     },
     "execution_count": 19,
     "metadata": {},
     "output_type": "execute_result"
    }
   ],
   "source": [
    "df_clean.head(2)"
   ]
  },
  {
   "cell_type": "code",
   "execution_count": 20,
   "id": "afad2ae6",
   "metadata": {},
   "outputs": [
    {
     "name": "stdout",
     "output_type": "stream",
     "text": [
      "Risk\n",
      "1    250\n",
      "0    250\n",
      "Name: count, dtype: int64\n",
      "Cab_Required\n",
      "True     364\n",
      "False    136\n",
      "Name: count, dtype: int64\n"
     ]
    }
   ],
   "source": [
    "print(df_clean[\"Risk\"].value_counts())\n",
    "print(df_clean[\"Cab_Required\"].value_counts())\n"
   ]
  },
  {
   "cell_type": "code",
   "execution_count": 21,
   "metadata": {},
   "outputs": [],
   "source": [
    "df_clean = df_clean[df_clean['Cab_Required'] == True]\n"
   ]
  },
  {
   "cell_type": "code",
   "execution_count": 23,
   "id": "8f02c93c",
   "metadata": {},
   "outputs": [
    {
     "name": "stdout",
     "output_type": "stream",
     "text": [
      "Risk\n",
      "1    202\n",
      "0    162\n",
      "Name: count, dtype: int64\n"
     ]
    }
   ],
   "source": [
    "print(df_clean[\"Risk\"].value_counts())\n"
   ]
  },
  {
   "cell_type": "code",
   "execution_count": 24,
   "id": "1d8ed08b",
   "metadata": {},
   "outputs": [
    {
     "data": {
      "text/html": [
       "<div>\n",
       "<style scoped>\n",
       "    .dataframe tbody tr th:only-of-type {\n",
       "        vertical-align: middle;\n",
       "    }\n",
       "\n",
       "    .dataframe tbody tr th {\n",
       "        vertical-align: top;\n",
       "    }\n",
       "\n",
       "    .dataframe thead th {\n",
       "        text-align: right;\n",
       "    }\n",
       "</style>\n",
       "<table border=\"1\" class=\"dataframe\">\n",
       "  <thead>\n",
       "    <tr style=\"text-align: right;\">\n",
       "      <th></th>\n",
       "      <th>Cab_Required</th>\n",
       "      <th>DayOfWeek</th>\n",
       "      <th>BookingTimeMin</th>\n",
       "      <th>AvgBookingTimeMin</th>\n",
       "      <th>MissedDeadline</th>\n",
       "      <th>PastBookingCount</th>\n",
       "      <th>PastLateBooking</th>\n",
       "      <th>PreviousRemainders</th>\n",
       "      <th>Risk</th>\n",
       "    </tr>\n",
       "  </thead>\n",
       "  <tbody>\n",
       "    <tr>\n",
       "      <th>0</th>\n",
       "      <td>True</td>\n",
       "      <td>5</td>\n",
       "      <td>96</td>\n",
       "      <td>96</td>\n",
       "      <td>1</td>\n",
       "      <td>15</td>\n",
       "      <td>4</td>\n",
       "      <td>5</td>\n",
       "      <td>1</td>\n",
       "    </tr>\n",
       "    <tr>\n",
       "      <th>1</th>\n",
       "      <td>True</td>\n",
       "      <td>6</td>\n",
       "      <td>805</td>\n",
       "      <td>805</td>\n",
       "      <td>0</td>\n",
       "      <td>8</td>\n",
       "      <td>0</td>\n",
       "      <td>3</td>\n",
       "      <td>0</td>\n",
       "    </tr>\n",
       "  </tbody>\n",
       "</table>\n",
       "</div>"
      ],
      "text/plain": [
       "   Cab_Required  DayOfWeek  BookingTimeMin  AvgBookingTimeMin  MissedDeadline  \\\n",
       "0          True          5              96                 96               1   \n",
       "1          True          6             805                805               0   \n",
       "\n",
       "   PastBookingCount  PastLateBooking  PreviousRemainders  Risk  \n",
       "0                15                4                   5     1  \n",
       "1                 8                0                   3     0  "
      ]
     },
     "execution_count": 24,
     "metadata": {},
     "output_type": "execute_result"
    }
   ],
   "source": [
    "df_clean.head(2)"
   ]
  },
  {
   "cell_type": "code",
   "execution_count": 25,
   "id": "479dd61e",
   "metadata": {},
   "outputs": [
    {
     "data": {
      "text/plain": [
       "Cab_Required          0\n",
       "DayOfWeek             0\n",
       "BookingTimeMin        0\n",
       "AvgBookingTimeMin     0\n",
       "MissedDeadline        0\n",
       "PastBookingCount      0\n",
       "PastLateBooking       0\n",
       "PreviousRemainders    0\n",
       "Risk                  0\n",
       "dtype: int64"
      ]
     },
     "execution_count": 25,
     "metadata": {},
     "output_type": "execute_result"
    }
   ],
   "source": [
    "df_clean.isnull().sum()"
   ]
  },
  {
   "cell_type": "code",
   "execution_count": 26,
   "id": "c13c0b79",
   "metadata": {},
   "outputs": [],
   "source": [
    "df_clean = df_clean.drop('Cab_Required', axis=1)\n"
   ]
  },
  {
   "cell_type": "code",
   "execution_count": 27,
   "metadata": {},
   "outputs": [
    {
     "data": {
      "text/html": [
       "<div>\n",
       "<style scoped>\n",
       "    .dataframe tbody tr th:only-of-type {\n",
       "        vertical-align: middle;\n",
       "    }\n",
       "\n",
       "    .dataframe tbody tr th {\n",
       "        vertical-align: top;\n",
       "    }\n",
       "\n",
       "    .dataframe thead th {\n",
       "        text-align: right;\n",
       "    }\n",
       "</style>\n",
       "<table border=\"1\" class=\"dataframe\">\n",
       "  <thead>\n",
       "    <tr style=\"text-align: right;\">\n",
       "      <th></th>\n",
       "      <th>DayOfWeek</th>\n",
       "      <th>BookingTimeMin</th>\n",
       "      <th>AvgBookingTimeMin</th>\n",
       "      <th>MissedDeadline</th>\n",
       "      <th>PastBookingCount</th>\n",
       "      <th>PastLateBooking</th>\n",
       "      <th>PreviousRemainders</th>\n",
       "      <th>Risk</th>\n",
       "    </tr>\n",
       "  </thead>\n",
       "  <tbody>\n",
       "    <tr>\n",
       "      <th>0</th>\n",
       "      <td>5</td>\n",
       "      <td>96</td>\n",
       "      <td>96</td>\n",
       "      <td>1</td>\n",
       "      <td>15</td>\n",
       "      <td>4</td>\n",
       "      <td>5</td>\n",
       "      <td>1</td>\n",
       "    </tr>\n",
       "    <tr>\n",
       "      <th>1</th>\n",
       "      <td>6</td>\n",
       "      <td>805</td>\n",
       "      <td>805</td>\n",
       "      <td>0</td>\n",
       "      <td>8</td>\n",
       "      <td>0</td>\n",
       "      <td>3</td>\n",
       "      <td>0</td>\n",
       "    </tr>\n",
       "  </tbody>\n",
       "</table>\n",
       "</div>"
      ],
      "text/plain": [
       "   DayOfWeek  BookingTimeMin  AvgBookingTimeMin  MissedDeadline  \\\n",
       "0          5              96                 96               1   \n",
       "1          6             805                805               0   \n",
       "\n",
       "   PastBookingCount  PastLateBooking  PreviousRemainders  Risk  \n",
       "0                15                4                   5     1  \n",
       "1                 8                0                   3     0  "
      ]
     },
     "execution_count": 27,
     "metadata": {},
     "output_type": "execute_result"
    }
   ],
   "source": [
    "df_clean.head(2)"
   ]
  },
  {
   "cell_type": "code",
   "execution_count": 28,
   "id": "91cffa79",
   "metadata": {},
   "outputs": [
    {
     "name": "stdout",
     "output_type": "stream",
     "text": [
      "📊 Random Forest Performance:\n",
      "              precision    recall  f1-score   support\n",
      "\n",
      "           0       1.00      0.97      0.98        30\n",
      "           1       0.98      1.00      0.99        43\n",
      "\n",
      "    accuracy                           0.99        73\n",
      "   macro avg       0.99      0.98      0.99        73\n",
      "weighted avg       0.99      0.99      0.99        73\n",
      "\n",
      "Accuracy: 0.9863013698630136\n"
     ]
    },
    {
     "data": {
      "text/plain": [
       "['rf_model.pkl']"
      ]
     },
     "execution_count": 28,
     "metadata": {},
     "output_type": "execute_result"
    }
   ],
   "source": [
    "from sklearn.model_selection import train_test_split\n",
    "from sklearn.ensemble import RandomForestClassifier\n",
    "from xgboost import XGBClassifier\n",
    "from sklearn.metrics import classification_report, accuracy_score\n",
    "import joblib\n",
    "\n",
    "\n",
    "# --- Define Features and Target ---\n",
    "X = df_clean.drop(['Risk'], axis=1)     # Features\n",
    "y = df_clean['Risk']                    # Target (1 = risky, 0 = safe)\n",
    "\n",
    "# --- Split into Train/Test Sets ---\n",
    "X_train, X_test, y_train, y_test = train_test_split(X, y, test_size=0.2, random_state=42)\n",
    "\n",
    "# --- Random Forest Model ---\n",
    "rf_model = RandomForestClassifier(n_estimators=100, random_state=42)\n",
    "rf_model.fit(X_train, y_train)\n",
    "\n",
    "# --- Evaluate Random Forest ---\n",
    "rf_preds = rf_model.predict(X_test)\n",
    "print(\"📊 Random Forest Performance:\")\n",
    "print(classification_report(y_test, rf_preds))\n",
    "print(\"Accuracy:\", accuracy_score(y_test, rf_preds))\n",
    "\n",
    "# --- Save Random Forest Model ---\n",
    "joblib.dump(rf_model, \"rf_model.pkl\")\n"
   ]
  },
  {
   "cell_type": "code",
   "execution_count": 29,
   "id": "b6fc3ff1",
   "metadata": {},
   "outputs": [
    {
     "name": "stdout",
     "output_type": "stream",
     "text": [
      "\n",
      "📊 XGBoost Performance:\n",
      "              precision    recall  f1-score   support\n",
      "\n",
      "           0       1.00      1.00      1.00        30\n",
      "           1       1.00      1.00      1.00        43\n",
      "\n",
      "    accuracy                           1.00        73\n",
      "   macro avg       1.00      1.00      1.00        73\n",
      "weighted avg       1.00      1.00      1.00        73\n",
      "\n",
      "Accuracy: 1.0\n"
     ]
    },
    {
     "name": "stderr",
     "output_type": "stream",
     "text": [
      "C:\\Users\\premb\\AppData\\Roaming\\Python\\Python312\\site-packages\\xgboost\\core.py:158: UserWarning: [14:58:45] WARNING: C:\\buildkite-agent\\builds\\buildkite-windows-cpu-autoscaling-group-i-0c55ff5f71b100e98-1\\xgboost\\xgboost-ci-windows\\src\\learner.cc:740: \n",
      "Parameters: { \"use_label_encoder\" } are not used.\n",
      "\n",
      "  warnings.warn(smsg, UserWarning)\n"
     ]
    },
    {
     "data": {
      "text/plain": [
       "['xgb_model.pkl']"
      ]
     },
     "execution_count": 29,
     "metadata": {},
     "output_type": "execute_result"
    }
   ],
   "source": [
    "# --- XGBoost Model ---\n",
    "xgb_model = XGBClassifier(use_label_encoder=False, eval_metric='logloss', random_state=42)\n",
    "xgb_model.fit(X_train, y_train)\n",
    "\n",
    "# --- Evaluate XGBoost ---\n",
    "xgb_preds = xgb_model.predict(X_test)\n",
    "print(\"\\n📊 XGBoost Performance:\")\n",
    "print(classification_report(y_test, xgb_preds))\n",
    "print(\"Accuracy:\", accuracy_score(y_test, xgb_preds))\n",
    "\n",
    "# --- Save XGBoost Model ---\n",
    "joblib.dump(xgb_model, \"xgb_model.pkl\")"
   ]
  },
  {
   "cell_type": "code",
   "execution_count": null,
   "id": "1bc5fa16",
   "metadata": {},
   "outputs": [],
   "source": [
    "#SMOTE USe when dataset is imbalanced\n",
    "# from sklearn.preprocessing import StandardScaler\n",
    "# from imblearn.over_sampling import SMOTE\n",
    "\n",
    "# # --- Step 4: Feature Scaling ---\n",
    "# scaler = StandardScaler()\n",
    "# X_train_scaled = scaler.fit_transform(X_train)\n",
    "# X_test_scaled = scaler.transform(X_test)\n",
    "\n",
    "# # --- Step 5: Apply SMOTE on TRAINING data only ---\n",
    "# smote = SMOTE(random_state=42)\n",
    "# X_train_resampled, y_train_resampled = smote.fit_resample(X_train_scaled, y_train)\n",
    "\n",
    "# # --- Step 6: Train Models ---\n",
    "\n",
    "# ## 🎯 Random Forest\n",
    "# rf_model = RandomForestClassifier(n_estimators=100, random_state=42)\n",
    "# rf_model.fit(X_train_resampled, y_train_resampled)\n",
    "# y_pred_rf = rf_model.predict(X_test_scaled)\n",
    "\n",
    "# print(\"\\n📊 Random Forest Performance:\")\n",
    "# print(classification_report(y_test, y_pred_rf))\n",
    "# print(\"Accuracy:\", accuracy_score(y_test, y_pred_rf))\n",
    "# joblib.dump(rf_model, \"rf_model.pkl\")\n"
   ]
  }
 ],
 "metadata": {
  "kernelspec": {
   "display_name": "Python 3",
   "language": "python",
   "name": "python3"
  },
  "language_info": {
   "codemirror_mode": {
    "name": "ipython",
    "version": 3
   },
   "file_extension": ".py",
   "mimetype": "text/x-python",
   "name": "python",
   "nbconvert_exporter": "python",
   "pygments_lexer": "ipython3",
   "version": "3.12.0"
  }
 },
 "nbformat": 4,
 "nbformat_minor": 5
}
